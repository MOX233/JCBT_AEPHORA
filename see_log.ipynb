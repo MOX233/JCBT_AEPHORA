{
 "cells": [
  {
   "cell_type": "code",
   "execution_count": 1,
   "metadata": {},
   "outputs": [],
   "source": [
    "import os # Configure which GPU\n",
    "import matplotlib.pyplot as plt\n",
    "import numpy as np\n",
    "import pickle\n",
    "import torch\n",
    "import time\n",
    "from utils.options import args_parser\n",
    "from utils.sumo_utils import read_trajectoryInfo_timeindex\n",
    "from utils.mox_utils import see_model_structure"
   ]
  },
  {
   "cell_type": "code",
   "execution_count": 2,
   "metadata": {},
   "outputs": [
    {
     "name": "stdout",
     "output_type": "stream",
     "text": [
      "['shared_layers', '0'] 256 -> 128\n",
      "['shared_layers', '2'] 128 -> 64\n",
      "['shared_layers', '4'] 64 -> 32\n",
      "['shared_layers', '6'] 32 -> 64\n",
      "['shared_layers', '8'] 64 -> 128\n",
      "['output_heads', '0', '0'] 128 -> 128\n",
      "['output_heads', '0', '2'] 128 -> 512\n",
      "['output_heads', '1', '0'] 128 -> 128\n",
      "['output_heads', '1', '2'] 128 -> 512\n",
      "['output_heads', '2', '0'] 128 -> 128\n",
      "['output_heads', '2', '2'] 128 -> 512\n",
      "['output_heads', '3', '0'] 128 -> 128\n",
      "['output_heads', '3', '2'] 128 -> 512\n"
     ]
    }
   ],
   "source": [
    "log_addr = '/home/ubuntu/niulab/JCBT_AEPHORA/NN_result/300_700_3Dbeam_tx(1,64)_rx(1,8)_freq2.8e+10_Np16_mode0/logs/beampred_dimIn256_valAcc91.44%_2025-03-27_13:30:01.pkl'\n",
    "see_model_structure(log_addr)"
   ]
  }
 ],
 "metadata": {
  "kernelspec": {
   "display_name": "sionna",
   "language": "python",
   "name": "python3"
  },
  "language_info": {
   "codemirror_mode": {
    "name": "ipython",
    "version": 3
   },
   "file_extension": ".py",
   "mimetype": "text/x-python",
   "name": "python",
   "nbconvert_exporter": "python",
   "pygments_lexer": "ipython3",
   "version": "3.10.16"
  }
 },
 "nbformat": 4,
 "nbformat_minor": 2
}
